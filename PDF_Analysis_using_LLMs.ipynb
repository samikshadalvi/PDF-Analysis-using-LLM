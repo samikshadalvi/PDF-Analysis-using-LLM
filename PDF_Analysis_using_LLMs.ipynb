{
  "nbformat": 4,
  "nbformat_minor": 0,
  "metadata": {
    "colab": {
      "provenance": []
    },
    "kernelspec": {
      "name": "python3",
      "display_name": "Python 3"
    },
    "language_info": {
      "name": "python"
    }
  },
  "cells": [
    {
      "cell_type": "markdown",
      "source": [
        "Staring with extracting the context from the pdf.\n"
      ],
      "metadata": {
        "id": "IzJ9Mwqutxvd"
      }
    },
    {
      "cell_type": "code",
      "source": [
        "# Install the library\n",
        "!pip install pdfplumber\n",
        "\n",
        "# Import and run\n",
        "import pdfplumber\n",
        "import os\n",
        "from google.colab import files\n",
        "\n",
        "# Check available files\n",
        "print(\"Available files:\", os.listdir('.'))\n",
        "\n",
        "pdf_path = \"google_terms_of_service_en_in.pdf\"\n",
        "output_text_file = \"extracted_text.txt\"\n",
        "\n",
        "try:\n",
        "    with pdfplumber.open(pdf_path) as pdf:\n",
        "        extracted_text = \"\"\n",
        "        for page in pdf.pages:\n",
        "            page_text = page.extract_text()\n",
        "            if page_text:\n",
        "                extracted_text += page_text + \"\\\\n\\\\n\"\n",
        "\n",
        "    with open(output_text_file, \"w\", encoding=\"utf-8\") as text_file:\n",
        "        text_file.write(extracted_text)\n",
        "\n",
        "    print(f\"Text extracted and saved to {output_text_file}\")\n",
        "\n",
        "    # Download the result\n",
        "    files.download(output_text_file)\n",
        "\n",
        "except FileNotFoundError:\n",
        "    print(f\"Please upload {pdf_path} to Colab first\")\n",
        "    print(\"Use the folder icon on the left or run: files.upload()\")\n",
        "except Exception as e:\n",
        "    print(f\"Error: {e}\")"
      ],
      "metadata": {
        "id": "M97E71-Lus9u"
      },
      "execution_count": null,
      "outputs": []
    },
    {
      "cell_type": "code",
      "source": [
        "# reading pdf content\n",
        "with open(\"/content/extracted_text.txt\", \"r\") as file:\n",
        "    document_text = file.read()\n",
        "\n",
        "# preview the document content\n",
        "print(document_text[:500])  # preview the first 500 characters"
      ],
      "metadata": {
        "id": "vnqkkKkUu4F9"
      },
      "execution_count": null,
      "outputs": []
    },
    {
      "cell_type": "code",
      "source": [
        "from transformers import pipeline\n",
        "\n",
        "# load the summarization pipeline\n",
        "summarizer = pipeline(\"summarization\", model=\"t5-small\")\n",
        "\n",
        "# summarize the document text (you can summarize parts if the document is too large)\n",
        "summary = summarizer(document_text[:1000], max_length=150, min_length=30, do_sample=False)\n",
        "print(\"Summary:\", summary[0]['summary_text'])"
      ],
      "metadata": {
        "id": "A-9_mn8bu40d"
      },
      "execution_count": null,
      "outputs": []
    },
    {
      "cell_type": "code",
      "source": [
        "# Option 1: Fix NLTK\n",
        "import nltk\n",
        "nltk.download('punkt_tab')\n",
        "from nltk.tokenize import sent_tokenize\n",
        "\n",
        "# Read your extracted text\n",
        "try:\n",
        "    with open('extracted_text.txt', 'r', encoding='utf-8') as file:\n",
        "        document_text = file.read()\n",
        "except FileNotFoundError:\n",
        "    print(\"Please run the PDF extraction code first!\")\n",
        "    document_text = \"\"\n",
        "\n",
        "if document_text:\n",
        "    # Split text into sentences\n",
        "    sentences = sent_tokenize(document_text)\n",
        "\n",
        "    # Combine sentences into passages\n",
        "    passages = []\n",
        "    current_passage = \"\"\n",
        "    for sentence in sentences:\n",
        "        if len(current_passage.split()) + len(sentence.split()) < 200:\n",
        "            current_passage += \" \" + sentence\n",
        "        else:\n",
        "            if current_passage.strip():\n",
        "                passages.append(current_passage.strip())\n",
        "            current_passage = sentence\n",
        "\n",
        "    if current_passage.strip():\n",
        "        passages.append(current_passage.strip())\n",
        "\n",
        "    print(f\"Successfully created {len(passages)} passages\")\n",
        "    print(f\"Average passage length: {sum(len(p.split()) for p in passages) / len(passages):.1f} words\")"
      ],
      "metadata": {
        "id": "_suGqelmu4_W"
      },
      "execution_count": null,
      "outputs": []
    },
    {
      "cell_type": "code",
      "source": [
        "# load the question generation pipeline\n",
        "qg_pipeline = pipeline(\"text2text-generation\", model=\"valhalla/t5-base-qg-hl\")\n",
        "\n",
        "# function to generate questions using the pipeline\n",
        "def generate_questions_pipeline(passage, min_questions=3):\n",
        "    input_text = f\"generate questions: {passage}\"\n",
        "    results = qg_pipeline(input_text)\n",
        "    questions = results[0]['generated_text'].split('<sep>')\n",
        "\n",
        "    # ensure we have at least 3 questions\n",
        "    questions = [q.strip() for q in questions if q.strip()]\n",
        "\n",
        "    # if fewer than 3 questions, try to regenerate from smaller parts of the passage\n",
        "    if len(questions) < min_questions:\n",
        "        passage_sentences = passage.split('. ')\n",
        "        for i in range(len(passage_sentences)):\n",
        "            if len(questions) >= min_questions:\n",
        "                break\n",
        "            additional_input = ' '.join(passage_sentences[i:i+2])\n",
        "            additional_results = qg_pipeline(f\"generate questions: {additional_input}\")\n",
        "            additional_questions = additional_results[0]['generated_text'].split('<sep>')\n",
        "            questions.extend([q.strip() for q in additional_questions if q.strip()])\n",
        "\n",
        "    return questions[:min_questions]  # return only the top 3 questions\n",
        "\n",
        "# generate questions from passages\n",
        "for idx, passage in enumerate(passages):\n",
        "    questions = generate_questions_pipeline(passage)\n",
        "    print(f\"Passage {idx+1}:\\n{passage}\\n\")\n",
        "    print(\"Generated Questions:\")\n",
        "    for q in questions:\n",
        "        print(f\"- {q}\")\n",
        "    print(f\"\\n{'-'*50}\\n\")"
      ],
      "metadata": {
        "id": "pNv9RWSfwosS"
      },
      "execution_count": null,
      "outputs": []
    },
    {
      "cell_type": "code",
      "source": [
        "# load the QA pipeline\n",
        "qa_pipeline = pipeline(\"question-answering\", model=\"deepset/roberta-base-squad2\")\n",
        "\n",
        "# function to track and answer only unique questions\n",
        "def answer_unique_questions(passages, qa_pipeline):\n",
        "    answered_questions = set()  # to store unique questions\n",
        "\n",
        "    for idx, passage in enumerate(passages):\n",
        "        questions = generate_questions_pipeline(passage)\n",
        "\n",
        "        for question in questions:\n",
        "            if question not in answered_questions:  # check if the question has already been answered\n",
        "                answer = qa_pipeline({'question': question, 'context': passage})\n",
        "                print(f\"Q: {question}\")\n",
        "                print(f\"A: {answer['answer']}\\n\")\n",
        "                answered_questions.add(question)  # add the question to the set to avoid repetition\n",
        "        print(f\"{'='*50}\\n\")\n",
        "\n",
        "answer_unique_questions(passages, qa_pipeline)"
      ],
      "metadata": {
        "id": "fl53gVTWwovU"
      },
      "execution_count": null,
      "outputs": []
    },
    {
      "cell_type": "code",
      "source": [],
      "metadata": {
        "id": "hmRRmgeBwoyv"
      },
      "execution_count": null,
      "outputs": []
    },
    {
      "cell_type": "code",
      "source": [],
      "metadata": {
        "id": "NI9kdh3Du5Lx"
      },
      "execution_count": null,
      "outputs": []
    }
  ]
}